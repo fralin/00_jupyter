{
 "cells": [
  {
   "cell_type": "markdown",
   "metadata": {},
   "source": [
    "# Utilisation de Jupyter notebooks\n",
    "\n",
    "Les notebooks Jupyter sont des cahiers électroniques qui, dans le même document, peuvent rassembler du texte, des images, des formules mathématiques et du code informatique exécutable. Ils sont manipulables interactivement dans un navigateur web.\n",
    "\n",
    "Initialement développés pour les langages de programmation Julia, Python et R (d'où le nom Jupyter), les notebooks Jupyter supportent près de 40 langages différents.\n",
    "\n",
    "La cellule est l'élément de base d'un notebook Jupyter. Elle peut contenir du texte formaté au format Markdown ou du code informatique qui pourra être exécuté.\n",
    "\n",
    "Les cellules contenant du code executable sont précédées de ```In [ ] :``` \n",
    "\n",
    "Vous pouvez entrer des instructions Python dans la première cellule. Par exemple :"
   ]
  },
  {
   "cell_type": "code",
   "execution_count": null,
   "metadata": {},
   "outputs": [],
   "source": [
    "a = 2\n",
    "b = 3\n",
    "print(a+b)"
   ]
  },
  {
   "cell_type": "markdown",
   "metadata": {},
   "source": [
    "**Pour exécuter le contenu de cette cellule, vous avez plusieurs possibilités :**\n",
    "\n",
    "- Cliquer sur le menu Cell, puis Run Cells.\n",
    "- Cliquer sur le bouton Run (sous la barre de menu).\n",
    "- Presser simultanément les touches Ctrl + Entrée.\n",
    "\n",
    "Dans tous les cas, vous devriez obtenir quelque chose qui ressemble à l'image 5. La notation ```In [1]``` à gauche de la cellule indique qu'il s'agit de la première cellule exécutée.\n",
    "\n",
    "**Pour créer une nouvelle cellule, vous avez, ici encore, plusieurs possibilités :**\n",
    "\n",
    "- Cliquer sur l’icône + sous la barre de menu.\n",
    "- Cliquer sur le menu Insert, puis Insert Cell Below.\n",
    "\n",
    "Une nouvelle cellule vide devrait apparaître."
   ]
  },
  {
   "cell_type": "markdown",
   "metadata": {},
   "source": [
    "Vous pouvez également créer une nouvelle cellule en positionnant votre curseur dans la première cellule, puis en pressant simultanément les touches ```Alt + Entrée```. Si vous utilisez cette combinaison de touches, vous remarquerez que le numéro à gauche de la première cellule est passée de In [1] à In [2] car vous avez exécuté la première cellule puis créé une nouvelle cellule.\n",
    "\n",
    "Vous pouvez ainsi créer plusieurs cellules les unes à la suite des autres."
   ]
  },
  {
   "cell_type": "code",
   "execution_count": null,
   "metadata": {},
   "outputs": [],
   "source": [
    "def ma_fonction(x,y):\n",
    "    return x+y"
   ]
  },
  {
   "cell_type": "markdown",
   "metadata": {},
   "source": [
    "Un objet créé dans une cellule antérieure (et executé ) sera disponible dans les cellules suivantes."
   ]
  },
  {
   "cell_type": "code",
   "execution_count": null,
   "metadata": {},
   "outputs": [],
   "source": [
    "print (ma_fonction(2,4))"
   ]
  },
  {
   "cell_type": "markdown",
   "metadata": {},
   "source": [
    "La possibilité d'exécuter les cellules d'un notebook Jupyter dans un ordre arbitraire peut prêter à confusion, notamment si vous modifiez la même variable d'une cellule à l'autre.\n",
    "\n",
    "Nous vous recommandons de régulièrement relancer complètement l'exécution de toutes les cellules de votre notebook, de la première à la dernière, en cliquant sur le menu Kernel puis Restart & Run All et enfin de valider le message Restart and Run All Cells."
   ]
  },
  {
   "cell_type": "markdown",
   "metadata": {},
   "source": [
    "##  Des graphiques dans les notebooks\n",
    "\n",
    "Un autre intérêt des notebooks Jupyter est de pouvoir y incorporer des graphiques réalisés avec la bibliothèque matplotlib."
   ]
  },
  {
   "cell_type": "code",
   "execution_count": null,
   "metadata": {},
   "outputs": [],
   "source": [
    "%matplotlib inline\n",
    "import numpy as np\n",
    "import matplotlib.pyplot as plt\n",
    "\n",
    "temps = [1, 2, 3, 4, 6, 7, 9,]\n",
    "val = [5.5, 7.2, 11.8, 13.6, 19.1, 21.7, 29.4]\n",
    "\n",
    "plt.scatter(temps, val, marker='o', color='blue')\n",
    "plt.xlabel('Temps en h')\n",
    "plt.ylabel('Concentration en mg/l')\n",
    "plt.title('Evolution de la concentration de chlore')\n",
    "\n",
    "x = np.linspace(min(temps),max(temps),50)\n",
    "y = 2 + 3*x\n",
    "plt.plot (x, y, color='green', ls='--')"
   ]
  },
  {
   "cell_type": "markdown",
   "metadata": {},
   "source": [
    "Par rapport à un code python classiquen il faut penser à ajouter la commande ```%matplotlib inline```\n",
    "qui n'est à lancer qu'une seule fois (en général dans la première cellule du notebook) et qui permet l'incorporation de figures dans un notebook Jupyter."
   ]
  },
  {
   "cell_type": "code",
   "execution_count": null,
   "metadata": {},
   "outputs": [],
   "source": []
  }
 ],
 "metadata": {
  "kernelspec": {
   "display_name": "Python 3",
   "language": "python",
   "name": "python3"
  },
  "language_info": {
   "codemirror_mode": {
    "name": "ipython",
    "version": 3
   },
   "file_extension": ".py",
   "mimetype": "text/x-python",
   "name": "python",
   "nbconvert_exporter": "python",
   "pygments_lexer": "ipython3",
   "version": "3.7.6"
  }
 },
 "nbformat": 4,
 "nbformat_minor": 4
}
